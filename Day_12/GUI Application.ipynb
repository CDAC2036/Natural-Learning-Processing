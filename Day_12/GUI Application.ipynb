{
 "cells": [
  {
   "cell_type": "code",
   "execution_count": 1,
   "metadata": {},
   "outputs": [],
   "source": [
    "from tkinter import *"
   ]
  },
  {
   "cell_type": "markdown",
   "metadata": {},
   "source": [
    "### Basic Application"
   ]
  },
  {
   "cell_type": "code",
   "execution_count": null,
   "metadata": {},
   "outputs": [],
   "source": [
    "# top = Tk() # Start\n",
    "\n",
    "# ## All code should be in between start and end\n",
    "\n",
    "# top.mainloop() # End"
   ]
  },
  {
   "cell_type": "markdown",
   "metadata": {},
   "source": [
    "### Custom Application"
   ]
  },
  {
   "cell_type": "code",
   "execution_count": null,
   "metadata": {},
   "outputs": [],
   "source": [
    "top = Tk() \n",
    "\n",
    "top.title('My First Application') # Title of the Window\n",
    "top.geometry('500x300') # Window Size: 500 width x 300 height\n",
    "\n",
    "top.mainloop()"
   ]
  },
  {
   "cell_type": "markdown",
   "metadata": {},
   "source": [
    "### Add Widgets\n"
   ]
  },
  {
   "cell_type": "code",
   "execution_count": null,
   "metadata": {},
   "outputs": [],
   "source": [
    "top = Tk() \n",
    "\n",
    "top.title('My First Application') \n",
    "top.geometry('500x300')\n",
    "\n",
    "l = Label(top, text = 'Hello World')\n",
    "l.pack() # Layout Manager; .pack() means add sequentially. .grid() means added in matrix form. .place() exact location (x,y)\n",
    "\n",
    "top.mainloop()"
   ]
  },
  {
   "cell_type": "code",
   "execution_count": null,
   "metadata": {},
   "outputs": [],
   "source": [
    "top = Tk() \n",
    "\n",
    "top.title('My First Application') \n",
    "top.geometry('500x300')\n",
    "\n",
    "l = Label(top, text = 'Hello World').pack()\n",
    "Entry(top).pack() # Text Box\n",
    "Button(top, text = \"Submit\").pack()\n",
    "\n",
    "top.mainloop()"
   ]
  },
  {
   "cell_type": "markdown",
   "metadata": {},
   "source": [
    "### Event Handling"
   ]
  },
  {
   "cell_type": "code",
   "execution_count": null,
   "metadata": {},
   "outputs": [],
   "source": [
    "top = Tk() \n",
    "\n",
    "top.title('My First Application') \n",
    "top.geometry('500x300')\n",
    "\n",
    "def show():\n",
    "    name = str(e.get()) # String data type conversion\n",
    "    print(\"Your name is:\", name.upper())\n",
    "\n",
    "\n",
    "l1 = Label(top, text = 'Enter your name:').pack()\n",
    "e = Entry(top)\n",
    "e.pack()\n",
    "Button(top, text = \"Submit\", command=show).pack()\n",
    "\n",
    "top.mainloop()"
   ]
  },
  {
   "cell_type": "code",
   "execution_count": null,
   "metadata": {},
   "outputs": [],
   "source": [
    "top = Tk() \n",
    "\n",
    "top.title('My First Application') \n",
    "top.geometry('500x300')\n",
    "\n",
    "def show():\n",
    "    name = e.get()\n",
    "    Label(top, text = \"Your name is: \" + name.upper()).pack()\n",
    "\n",
    "l1 = Label(top, text = 'Enter your name:').pack()\n",
    "e = Entry(top)\n",
    "e.pack()\n",
    "Button(top, text = \"Submit\", command=show).pack()\n",
    "\n",
    "top.mainloop()"
   ]
  },
  {
   "cell_type": "code",
   "execution_count": null,
   "metadata": {},
   "outputs": [],
   "source": [
    "help(Entry)"
   ]
  },
  {
   "cell_type": "markdown",
   "metadata": {},
   "source": [
    "### Interactive Application"
   ]
  },
  {
   "cell_type": "code",
   "execution_count": null,
   "metadata": {},
   "outputs": [],
   "source": [
    "top = Tk() \n",
    "\n",
    "top.title('Square of Number') \n",
    "top.geometry('500x300')\n",
    "\n",
    "def show():\n",
    "    num = float(e.get())\n",
    "    Label(top, text = f\"Square of {num}: \" + str(num**2)).pack()\n",
    "\n",
    "l1 = Label(top, text = 'Enter number:').pack()\n",
    "e = Entry(top)\n",
    "e.pack()\n",
    "Button(top, text = \"Submit\", command=show).pack()\n",
    "\n",
    "top.mainloop()"
   ]
  },
  {
   "cell_type": "code",
   "execution_count": null,
   "metadata": {},
   "outputs": [],
   "source": [
    "top = Tk() \n",
    "\n",
    "top.title('Square of Number') \n",
    "top.geometry('500x300')\n",
    "\n",
    "def show():\n",
    "    num = float(e.get())\n",
    "    Label(top, text = f\"Square of {num}: \" + str(num**2)).place(x= 50, y= 140)\n",
    "    \n",
    "l1 = Label(top, text = 'Enter number:').place(x= 50, y= 30)\n",
    "e = Entry(top)\n",
    "e.place(x= 50, y= 70)\n",
    "Button(top, text = \"Submit\", command=show).place(x= 50, y= 110)\n",
    "\n",
    "top.mainloop()"
   ]
  },
  {
   "cell_type": "markdown",
   "metadata": {},
   "source": [
    "### General Purpose Computer"
   ]
  },
  {
   "cell_type": "code",
   "execution_count": 7,
   "metadata": {},
   "outputs": [],
   "source": [
    "top = Tk() \n",
    "\n",
    "top.title('Square of Number') \n",
    "top.geometry('500x300')\n",
    "    \n",
    "def add():\n",
    "    num1 = float(e1.get())\n",
    "    num2 = float(e2.get())\n",
    "    l.config(text='Addition is: '+ str(num1 + num2))\n",
    "    \n",
    "    \n",
    "def sub():\n",
    "    num1 = float(e1.get())\n",
    "    num2 = float(e2.get())\n",
    "    l.config(text='Subtraction is: '+ str(num1 - num2))\n",
    "    l.place(x=50, y=140)\n",
    "\n",
    "def mul():\n",
    "    num1 = float(e1.get())\n",
    "    num2 = float(e2.get())\n",
    "    l.config(text='Multiplication is: '+ str(num1 * num2))\n",
    "    l.place(x=50, y=140)\n",
    "    \n",
    "def div():\n",
    "    num1 = float(e1.get())\n",
    "    num2 = float(e2.get())\n",
    "    if num2 != 0:\n",
    "        l.config(text='Division is: '+ str(num1 / num2))\n",
    "        l.place(x=50, y=140)\n",
    "    else:\n",
    "        l.config(text = \"Denominator can't be zero\")\n",
    "        l.place(x=50, y=140)\n",
    "        \n",
    "        \n",
    "Label(top, text = 'Enter number 1:').place(x= 50, y= 30)\n",
    "e1 = Entry(top)\n",
    "e1.place(x= 50, y= 70)\n",
    "\n",
    "Label(top, text = 'Enter number 2:').place(x= 200, y= 30)\n",
    "e2 = Entry(top)\n",
    "e2.place(x= 200, y= 70)\n",
    "\n",
    "Button(top, text = \"+\", command=add).place(x= 50, y= 110)\n",
    "Button(top, text = \"-\", command=sub).place(x= 100, y= 110)\n",
    "Button(top, text = \"*\", command=mul).place(x= 150, y= 110)\n",
    "Button(top, text = \"/\", command=div).place(x= 200, y= 110)\n",
    "\n",
    "l = Label(top)\n",
    "\n",
    "top.mainloop()"
   ]
  },
  {
   "cell_type": "markdown",
   "metadata": {},
   "source": [
    "### GUI for Spam Classifier"
   ]
  },
  {
   "cell_type": "code",
   "execution_count": 21,
   "metadata": {},
   "outputs": [],
   "source": [
    "import joblib\n",
    "from nltk.tokenize import word_tokenize\n",
    "from nltk.corpus import stopwords\n",
    "from nltk.stem import PorterStemmer\n",
    "\n",
    "top = Tk() \n",
    "top.title('My first Application') \n",
    "top.geometry('800x600')\n",
    "\n",
    "swords = stopwords.words('english')\n",
    "ps = PorterStemmer()\n",
    "\n",
    "# It is rquired as tfidf needs clean text function bcz tfidf = TfidfVectorizer(analyzer=clean_text) and tfidf is used for preprocessor.model\n",
    "def clean_text(sent):\n",
    "    tokens = [ps.stem(word) for word in word_tokenize(sent) if word.lower() not in swords and word.isalnum()]\n",
    "    return tokens\n",
    "\n",
    "def check():\n",
    "    classifier = joblib.load('classifier.model')\n",
    "    tfidf = joblib.load('preprocessor.model')\n",
    "    message = str(t.get(\"1.0\", END))\n",
    "    result = classifier.predict(tfidf.transform([message]))\n",
    "    \n",
    "    l.config(text = f\"Message is: \" + str(result[0]))\n",
    "    l.place(x=350, y=550)\n",
    "    \n",
    "l1 = Label(top, text = 'Enter your message here:').place(x= 50, y= 30)\n",
    "t = Text(top)\n",
    "t.place(x= 50, y= 70)\n",
    "Button(top, text = \"Submit\", command=check).place(x= 350, y= 500)\n",
    "l = Label(top, text = 'Message is: ')\n",
    "\n",
    "top.mainloop()"
   ]
  },
  {
   "cell_type": "code",
   "execution_count": null,
   "metadata": {},
   "outputs": [],
   "source": []
  }
 ],
 "metadata": {
  "kernelspec": {
   "display_name": "base",
   "language": "python",
   "name": "python3"
  },
  "language_info": {
   "codemirror_mode": {
    "name": "ipython",
    "version": 3
   },
   "file_extension": ".py",
   "mimetype": "text/x-python",
   "name": "python",
   "nbconvert_exporter": "python",
   "pygments_lexer": "ipython3",
   "version": "3.11.7"
  }
 },
 "nbformat": 4,
 "nbformat_minor": 2
}
