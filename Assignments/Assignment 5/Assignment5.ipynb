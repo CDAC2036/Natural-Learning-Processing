{
 "cells": [
  {
   "cell_type": "code",
   "execution_count": 14,
   "metadata": {},
   "outputs": [
    {
     "name": "stdout",
     "output_type": "stream",
     "text": [
      "Mount Everest - Wikipedia\n"
     ]
    },
    {
     "data": {
      "text/plain": [
       "172051"
      ]
     },
     "execution_count": 14,
     "metadata": {},
     "output_type": "execute_result"
    }
   ],
   "source": [
    "from urllib.request import urlopen\n",
    "from nltk.tokenize import word_tokenize\n",
    "from nltk import FreqDist\n",
    "from bs4 import BeautifulSoup\n",
    "from nltk.corpus import stopwords\n",
    "url = urlopen('https://en.wikipedia.org/wiki/Mount_Everest')\n",
    "data = url.read()\n",
    "\n",
    "soup = BeautifulSoup(data, 'html.parser')\n",
    "\n",
    "\n",
    "text = soup.get_text()\n",
    "print(soup.find(\"title\").text)\n",
    "\n",
    "\n",
    "tokens= word_tokenize(text)\n",
    "\n",
    "swords = stopwords.words('english')\n",
    "\n",
    "words = [word for word in tokens if word.lower() not in swords and word.isalnum()]\n",
    "words.count('Mount')\n",
    "text=text.upper()\n",
    "f = open(\"mount.txt\", \"w\")\n",
    "f.write(text)\n",
    "\n"
   ]
  },
  {
   "cell_type": "code",
   "execution_count": 24,
   "metadata": {},
   "outputs": [
    {
     "data": {
      "text/plain": [
       "4742"
      ]
     },
     "execution_count": 24,
     "metadata": {},
     "output_type": "execute_result"
    }
   ],
   "source": [
    "\n",
    "from pypdf import PdfReader\n",
    "reader = PdfReader('introduction-to-natural-language-processing.pdf')\n",
    "text= reader.pages[13].extract_text()+' '+reader.pages[14].extract_text()\n",
    "f = open(\"nlp.txt\", \"w\")\n",
    "f.write(text)"
   ]
  },
  {
   "cell_type": "code",
   "execution_count": 30,
   "metadata": {},
   "outputs": [
    {
     "name": "stdout",
     "output_type": "stream",
     "text": [
      "Collecting python-docxNote: you may need to restart the kernel to use updated packages.\n",
      "\n",
      "  Downloading python_docx-1.1.2-py3-none-any.whl.metadata (2.0 kB)\n",
      "Requirement already satisfied: lxml>=3.1.0 in c:\\users\\administrator.dai-pc2\\anaconda3\\lib\\site-packages (from python-docx) (5.2.1)\n",
      "Requirement already satisfied: typing-extensions>=4.9.0 in c:\\users\\administrator.dai-pc2\\anaconda3\\lib\\site-packages (from python-docx) (4.11.0)\n",
      "Downloading python_docx-1.1.2-py3-none-any.whl (244 kB)\n",
      "   ---------------------------------------- 0.0/244.3 kB ? eta -:--:--\n",
      "   ---------- ----------------------------- 61.4/244.3 kB 3.2 MB/s eta 0:00:01\n",
      "   ---------------------------------------- 244.3/244.3 kB 3.0 MB/s eta 0:00:00\n",
      "Installing collected packages: python-docx\n",
      "Successfully installed python-docx-1.1.2\n"
     ]
    }
   ],
   "source": [
    "pip install python-docx\n"
   ]
  },
  {
   "cell_type": "code",
   "execution_count": 46,
   "metadata": {},
   "outputs": [
    {
     "name": "stdout",
     "output_type": "stream",
     "text": [
      "Machine Learning and Natural Language Processing\n",
      "Percy Liang\n",
      "Abstract: Machine learning plays a vital role in modern natural language processing (NLP), enabling the construction of robust machine translation, speech recognition, and question answering systems.  An underdeveloped but critical component required for further advancing the state-of-the-art is semantics, a topic that has been receiving increasing attention.  In this talk, I will first give an overview of various semantic models and the linguistic phenomena they seek to capture.  Then, I will walk through a model for question answering that learns logical forms in an unsupervised way.  Learning such a model requires dealing with both combinatorial explosions and non-convexities, heavily stressing existing machine learning techniques.  I will conclude by highlighting how these challenges point to exciting opportunities for developing new learning algorithms.\n",
      "Machine Learning and Natural Language Processing\n",
      "Percy Liang Abstract: Machine learning plays a vital role in modern natural language processing (NLP), enabling the construction of robust machine translation, speech recognition, and question answering systems.  An underdeveloped but critical component required for further advancing the state-of-the-art is semantics, a topic that has been receiving increasing attention.  In this talk, I will first give an overview of various semantic models and the linguistic phenomena they seek to capture.  Then, I will walk through a model for question answering that learns logical forms in an unsupervised way.  Learning such a model requires dealing with both combinatorial explosions and non-convexities, heavily stressing existing machine learning techniques.  I will conclude by highlighting how these challenges point to exciting opportunities for developing new learning algorithms. \n",
      "3\n"
     ]
    }
   ],
   "source": [
    "\n",
    "from docx import Document \n",
    "\n",
    "doc = Document('Machine-Learning-and-Natural-Language-Processing (1).docx')\n",
    "s=''\n",
    "\n",
    "for i in doc.paragraphs:\n",
    "    print(i.text)\n",
    "    s=s+i.text+' '\n",
    "print(s)\n",
    "s=s.split()\n",
    "print(s.count('the')+s.count('The'))\n",
    "   "
   ]
  }
 ],
 "metadata": {
  "kernelspec": {
   "display_name": "base",
   "language": "python",
   "name": "python3"
  },
  "language_info": {
   "codemirror_mode": {
    "name": "ipython",
    "version": 3
   },
   "file_extension": ".py",
   "mimetype": "text/x-python",
   "name": "python",
   "nbconvert_exporter": "python",
   "pygments_lexer": "ipython3",
   "version": "3.11.7"
  }
 },
 "nbformat": 4,
 "nbformat_minor": 2
}
