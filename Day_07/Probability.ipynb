{
 "cells": [
  {
   "cell_type": "markdown",
   "metadata": {},
   "source": [
    "### Theoretical Probability"
   ]
  },
  {
   "cell_type": "code",
   "execution_count": 1,
   "metadata": {},
   "outputs": [],
   "source": [
    "def coin_flip_probability():\n",
    "    heads_prob = 1/2\n",
    "    return heads_prob\n",
    "\n",
    "def rolling_dice_probability(number):\n",
    "    if number not in range(1,7):\n",
    "        raise ValueError(\"Number must be between 1 to 6\")\n",
    "    probability = 1 / 6\n",
    "    return probability"
   ]
  },
  {
   "cell_type": "code",
   "execution_count": 2,
   "metadata": {},
   "outputs": [
    {
     "name": "stdout",
     "output_type": "stream",
     "text": [
      "Probability of heads in coin flip:  0.5\n",
      "Probability of getting 4 in rolling dice:  0.16666666666666666\n"
     ]
    }
   ],
   "source": [
    "coin_flip_result = coin_flip_probability()\n",
    "rolling_dice_result = rolling_dice_probability(4)\n",
    "\n",
    "print(\"Probability of heads in coin flip: \", coin_flip_result)\n",
    "print(\"Probability of getting 4 in rolling dice: \", rolling_dice_result)"
   ]
  },
  {
   "cell_type": "markdown",
   "metadata": {},
   "source": [
    "### Experimental Probability"
   ]
  },
  {
   "cell_type": "code",
   "execution_count": 3,
   "metadata": {},
   "outputs": [],
   "source": [
    "import random\n",
    "import pandas as pd"
   ]
  },
  {
   "cell_type": "code",
   "execution_count": 4,
   "metadata": {},
   "outputs": [],
   "source": [
    "def simulate_coin_flips(num_flips):\n",
    "    results = []\n",
    "    for _ in range(num_flips):\n",
    "        flip = random.choice([\"Heads\", \"Tails\"])\n",
    "        results.append(flip)\n",
    "    return results"
   ]
  },
  {
   "cell_type": "code",
   "execution_count": 5,
   "metadata": {},
   "outputs": [
    {
     "data": {
      "text/plain": [
       "['Tails',\n",
       " 'Heads',\n",
       " 'Tails',\n",
       " 'Heads',\n",
       " 'Heads',\n",
       " 'Heads',\n",
       " 'Tails',\n",
       " 'Tails',\n",
       " 'Tails',\n",
       " 'Tails',\n",
       " 'Heads',\n",
       " 'Heads',\n",
       " 'Tails',\n",
       " 'Tails',\n",
       " 'Tails',\n",
       " 'Tails',\n",
       " 'Tails',\n",
       " 'Heads',\n",
       " 'Tails',\n",
       " 'Heads',\n",
       " 'Tails',\n",
       " 'Tails',\n",
       " 'Tails',\n",
       " 'Heads',\n",
       " 'Tails',\n",
       " 'Tails',\n",
       " 'Tails',\n",
       " 'Tails',\n",
       " 'Tails',\n",
       " 'Heads',\n",
       " 'Heads',\n",
       " 'Heads',\n",
       " 'Tails',\n",
       " 'Tails',\n",
       " 'Heads',\n",
       " 'Heads',\n",
       " 'Heads',\n",
       " 'Heads',\n",
       " 'Heads',\n",
       " 'Heads',\n",
       " 'Heads',\n",
       " 'Heads',\n",
       " 'Heads',\n",
       " 'Tails',\n",
       " 'Heads',\n",
       " 'Tails',\n",
       " 'Heads',\n",
       " 'Heads',\n",
       " 'Heads',\n",
       " 'Tails',\n",
       " 'Tails',\n",
       " 'Heads',\n",
       " 'Tails',\n",
       " 'Heads',\n",
       " 'Heads',\n",
       " 'Heads',\n",
       " 'Heads',\n",
       " 'Heads',\n",
       " 'Heads',\n",
       " 'Tails',\n",
       " 'Heads',\n",
       " 'Heads',\n",
       " 'Tails',\n",
       " 'Heads',\n",
       " 'Heads',\n",
       " 'Tails',\n",
       " 'Heads',\n",
       " 'Heads',\n",
       " 'Heads',\n",
       " 'Heads',\n",
       " 'Heads',\n",
       " 'Heads',\n",
       " 'Heads',\n",
       " 'Heads',\n",
       " 'Heads',\n",
       " 'Tails',\n",
       " 'Tails',\n",
       " 'Heads',\n",
       " 'Tails',\n",
       " 'Heads',\n",
       " 'Tails',\n",
       " 'Heads',\n",
       " 'Heads',\n",
       " 'Tails',\n",
       " 'Tails',\n",
       " 'Heads',\n",
       " 'Heads',\n",
       " 'Heads',\n",
       " 'Heads',\n",
       " 'Heads',\n",
       " 'Heads',\n",
       " 'Heads',\n",
       " 'Tails',\n",
       " 'Tails',\n",
       " 'Heads',\n",
       " 'Heads',\n",
       " 'Heads',\n",
       " 'Tails',\n",
       " 'Heads',\n",
       " 'Tails']"
      ]
     },
     "execution_count": 5,
     "metadata": {},
     "output_type": "execute_result"
    }
   ],
   "source": [
    "simulate_coin_flips(100)"
   ]
  },
  {
   "cell_type": "code",
   "execution_count": 6,
   "metadata": {},
   "outputs": [
    {
     "data": {
      "text/plain": [
       "Heads    52\n",
       "Tails    48\n",
       "Name: count, dtype: int64"
      ]
     },
     "execution_count": 6,
     "metadata": {},
     "output_type": "execute_result"
    }
   ],
   "source": [
    "pd.Series(simulate_coin_flips(100)).value_counts()"
   ]
  },
  {
   "cell_type": "code",
   "execution_count": 7,
   "metadata": {},
   "outputs": [],
   "source": [
    "def calculate_experimental_probability(results, event):\n",
    "    event_count = results.count(event)\n",
    "    total_flips = len(results)\n",
    "    probability = event_count / total_flips\n",
    "    return probability"
   ]
  },
  {
   "cell_type": "code",
   "execution_count": 10,
   "metadata": {},
   "outputs": [
    {
     "name": "stdout",
     "output_type": "stream",
     "text": [
      "Number of Flips: 1000\n",
      "Probability of Heads: 0.499\n",
      "Probability of Tails: 0.501\n"
     ]
    }
   ],
   "source": [
    "num_flips = 1000\n",
    "simulation_results = simulate_coin_flips(num_flips)\n",
    "\n",
    "head_probability = calculate_experimental_probability(simulation_results, \"Heads\")\n",
    "tail_probability = calculate_experimental_probability(simulation_results, \"Tails\")\n",
    "\n",
    "print(f'Number of Flips: {num_flips}')\n",
    "print(f'Probability of Heads: {head_probability}')\n",
    "print(f'Probability of Tails: {tail_probability}')"
   ]
  },
  {
   "cell_type": "markdown",
   "metadata": {},
   "source": [
    "### Linear Growth"
   ]
  },
  {
   "cell_type": "code",
   "execution_count": 14,
   "metadata": {},
   "outputs": [
    {
     "data": {
      "text/plain": [
       "array([0.  , 0.25, 0.5 , 0.75, 1.  , 1.25, 1.5 , 1.75, 2.  , 2.25, 2.5 ,\n",
       "       2.75, 3.  , 3.25, 3.5 , 3.75, 4.  , 4.25, 4.5 , 4.75, 5.  , 5.25,\n",
       "       5.5 , 5.75, 6.  , 6.25, 6.5 , 6.75, 7.  , 7.25, 7.5 , 7.75, 8.  ,\n",
       "       8.25, 8.5 , 8.75, 9.  , 9.25, 9.5 , 9.75])"
      ]
     },
     "execution_count": 14,
     "metadata": {},
     "output_type": "execute_result"
    }
   ],
   "source": [
    "import numpy as np\n",
    "import matplotlib.pyplot as plt\n",
    "x = np.arange(0,10,0.25)\n",
    "x"
   ]
  },
  {
   "cell_type": "code",
   "execution_count": 15,
   "metadata": {},
   "outputs": [
    {
     "data": {
      "text/plain": [
       "array([43.76846  , 43.9048715, 44.041283 , 44.1776945, 44.314106 ,\n",
       "       44.4505175, 44.586929 , 44.7233405, 44.859752 , 44.9961635,\n",
       "       45.132575 , 45.2689865, 45.405398 , 45.5418095, 45.678221 ,\n",
       "       45.8146325, 45.951044 , 46.0874555, 46.223867 , 46.3602785,\n",
       "       46.49669  , 46.6331015, 46.769513 , 46.9059245, 47.042336 ,\n",
       "       47.1787475, 47.315159 , 47.4515705, 47.587982 , 47.7243935,\n",
       "       47.860805 , 47.9972165, 48.133628 , 48.2700395, 48.406451 ,\n",
       "       48.5428625, 48.679274 , 48.8156855, 48.952097 , 49.0885085])"
      ]
     },
     "execution_count": 15,
     "metadata": {},
     "output_type": "execute_result"
    }
   ],
   "source": [
    "y = x* 0.545646 + 43.76846\n",
    "y"
   ]
  },
  {
   "cell_type": "code",
   "execution_count": 17,
   "metadata": {},
   "outputs": [
    {
     "data": {
      "text/plain": [
       "[<matplotlib.lines.Line2D at 0x2413a79ee90>]"
      ]
     },
     "execution_count": 17,
     "metadata": {},
     "output_type": "execute_result"
    },
    {
     "data": {
      "image/png": "[encoded data removed]",
      "text/plain": [
       "<Figure size 640x480 with 1 Axes>"
      ]
     },
     "metadata": {},
     "output_type": "display_data"
    }
   ],
   "source": [
    "plt.plot(x,y)"
   ]
  },
  {
   "cell_type": "code",
   "execution_count": null,
   "metadata": {},
   "outputs": [],
   "source": []
  }
 ],
 "metadata": {
  "kernelspec": {
   "display_name": "base",
   "language": "python",
   "name": "python3"
  },
  "language_info": {
   "codemirror_mode": {
    "name": "ipython",
    "version": 3
   },
   "file_extension": ".py",
   "mimetype": "text/x-python",
   "name": "python",
   "nbconvert_exporter": "python",
   "pygments_lexer": "ipython3",
   "version": "3.11.7"
  }
 },
 "nbformat": 4,
 "nbformat_minor": 2
}
