{
  "cells": [
    {
      "cell_type": "code",
      "execution_count": 1,
      "metadata": {
        "id": "3niuHZiWteAi"
      },
      "outputs": [],
      "source": [
        "from nltk import pos_tag\n",
        "from nltk.tokenize import word_tokenize"
      ]
    },
    {
      "cell_type": "code",
      "execution_count": 2,
      "metadata": {
        "id": "oOENNCk7s29K"
      },
      "outputs": [],
      "source": [
        "text = \"Venus is the second planet from the Sun. It is a terrestrial planet and is the closest in mass and size to its orbital neighbour Earth. Venus is notable for having the densest atmosphere of the terrestrial planets, composed mostly of carbon dioxide with a thick, global sulfuric acid cloud cover. At the surface it has a mean temperature of 737 K (464 °C; 867 °F) and a pressure of 92 times that of Earth's at sea level. These extreme conditions compress carbon dioxide into a supercritical state close to Venus's surface.\""
      ]
    },
    {
      "cell_type": "code",
      "execution_count": 3,
      "metadata": {
        "colab": {
          "base_uri": "https://localhost:8080/",
          "height": 70
        },
        "id": "ObmaM7amtLnZ",
        "outputId": "2ca89e9f-3929-4314-cb46-29b381aff7a2"
      },
      "outputs": [
        {
          "data": {
            "text/plain": [
              "\"Venus is the second planet from the Sun. It is a terrestrial planet and is the closest in mass and size to its orbital neighbour Earth. Venus is notable for having the densest atmosphere of the terrestrial planets, composed mostly of carbon dioxide with a thick, global sulfuric acid cloud cover. At the surface it has a mean temperature of 737 K (464 °C; 867 °F) and a pressure of 92 times that of Earth's at sea level. These extreme conditions compress carbon dioxide into a supercritical state close to Venus's surface.\""
            ]
          },
          "execution_count": 3,
          "metadata": {},
          "output_type": "execute_result"
        }
      ],
      "source": [
        "text"
      ]
    },
    {
      "cell_type": "code",
      "execution_count": 4,
      "metadata": {
        "id": "so4MGm9dtQEd"
      },
      "outputs": [],
      "source": [
        "tags = pos_tag(word_tokenize(text))"
      ]
    },
    {
      "cell_type": "code",
      "execution_count": 5,
      "metadata": {
        "colab": {
          "base_uri": "https://localhost:8080/"
        },
        "id": "XrwFHWIvtlyY",
        "outputId": "b072baed-3447-435d-88f4-76de9fbe5ee3"
      },
      "outputs": [
        {
          "data": {
            "text/plain": [
              "[('Venus', 'NNP'),\n",
              " ('is', 'VBZ'),\n",
              " ('the', 'DT'),\n",
              " ('second', 'JJ'),\n",
              " ('planet', 'NN'),\n",
              " ('from', 'IN'),\n",
              " ('the', 'DT'),\n",
              " ('Sun', 'NNP'),\n",
              " ('.', '.'),\n",
              " ('It', 'PRP'),\n",
              " ('is', 'VBZ'),\n",
              " ('a', 'DT'),\n",
              " ('terrestrial', 'JJ'),\n",
              " ('planet', 'NN'),\n",
              " ('and', 'CC'),\n",
              " ('is', 'VBZ'),\n",
              " ('the', 'DT'),\n",
              " ('closest', 'JJS'),\n",
              " ('in', 'IN'),\n",
              " ('mass', 'NN'),\n",
              " ('and', 'CC'),\n",
              " ('size', 'NN'),\n",
              " ('to', 'TO'),\n",
              " ('its', 'PRP$'),\n",
              " ('orbital', 'JJ'),\n",
              " ('neighbour', 'JJ'),\n",
              " ('Earth', 'NN'),\n",
              " ('.', '.'),\n",
              " ('Venus', 'NNP'),\n",
              " ('is', 'VBZ'),\n",
              " ('notable', 'JJ'),\n",
              " ('for', 'IN'),\n",
              " ('having', 'VBG'),\n",
              " ('the', 'DT'),\n",
              " ('densest', 'JJS'),\n",
              " ('atmosphere', 'NN'),\n",
              " ('of', 'IN'),\n",
              " ('the', 'DT'),\n",
              " ('terrestrial', 'JJ'),\n",
              " ('planets', 'NNS'),\n",
              " (',', ','),\n",
              " ('composed', 'VBD'),\n",
              " ('mostly', 'RB'),\n",
              " ('of', 'IN'),\n",
              " ('carbon', 'NN'),\n",
              " ('dioxide', 'NN'),\n",
              " ('with', 'IN'),\n",
              " ('a', 'DT'),\n",
              " ('thick', 'NN'),\n",
              " (',', ','),\n",
              " ('global', 'JJ'),\n",
              " ('sulfuric', 'JJ'),\n",
              " ('acid', 'NN'),\n",
              " ('cloud', 'NN'),\n",
              " ('cover', 'NN'),\n",
              " ('.', '.'),\n",
              " ('At', 'IN'),\n",
              " ('the', 'DT'),\n",
              " ('surface', 'NN'),\n",
              " ('it', 'PRP'),\n",
              " ('has', 'VBZ'),\n",
              " ('a', 'DT'),\n",
              " ('mean', 'JJ'),\n",
              " ('temperature', 'NN'),\n",
              " ('of', 'IN'),\n",
              " ('737', 'CD'),\n",
              " ('K', 'NNP'),\n",
              " ('(', '('),\n",
              " ('464', 'CD'),\n",
              " ('°C', 'NN'),\n",
              " (';', ':'),\n",
              " ('867', 'CD'),\n",
              " ('°F', 'NN'),\n",
              " (')', ')'),\n",
              " ('and', 'CC'),\n",
              " ('a', 'DT'),\n",
              " ('pressure', 'NN'),\n",
              " ('of', 'IN'),\n",
              " ('92', 'CD'),\n",
              " ('times', 'NNS'),\n",
              " ('that', 'IN'),\n",
              " ('of', 'IN'),\n",
              " ('Earth', 'NNP'),\n",
              " (\"'s\", 'POS'),\n",
              " ('at', 'IN'),\n",
              " ('sea', 'NN'),\n",
              " ('level', 'NN'),\n",
              " ('.', '.'),\n",
              " ('These', 'DT'),\n",
              " ('extreme', 'JJ'),\n",
              " ('conditions', 'NNS'),\n",
              " ('compress', 'VBP'),\n",
              " ('carbon', 'NN'),\n",
              " ('dioxide', 'NN'),\n",
              " ('into', 'IN'),\n",
              " ('a', 'DT'),\n",
              " ('supercritical', 'JJ'),\n",
              " ('state', 'NN'),\n",
              " ('close', 'NN'),\n",
              " ('to', 'TO'),\n",
              " ('Venus', 'NNP'),\n",
              " (\"'s\", 'POS'),\n",
              " ('surface', 'NN'),\n",
              " ('.', '.')]"
            ]
          },
          "execution_count": 5,
          "metadata": {},
          "output_type": "execute_result"
        }
      ],
      "source": [
        "tags"
      ]
    },
    {
      "cell_type": "code",
      "execution_count": 8,
      "metadata": {},
      "outputs": [
        {
          "data": {
            "text/plain": [
              "('Venus', 'NNP')"
            ]
          },
          "execution_count": 8,
          "metadata": {},
          "output_type": "execute_result"
        }
      ],
      "source": [
        "tags[0]"
      ]
    },
    {
      "cell_type": "code",
      "execution_count": 12,
      "metadata": {
        "colab": {
          "base_uri": "https://localhost:8080/"
        },
        "id": "JnKZFpoJtpO4",
        "outputId": "e8761180-b38c-4828-fe30-ae6d9a794dbe"
      },
      "outputs": [
        {
          "name": "stdout",
          "output_type": "stream",
          "text": [
            "Venus\n",
            "planet\n",
            "Sun\n",
            "planet\n",
            "mass\n",
            "size\n",
            "Earth\n",
            "Venus\n",
            "atmosphere\n",
            "planets\n",
            "carbon\n",
            "dioxide\n",
            "thick\n",
            "acid\n",
            "cloud\n",
            "cover\n",
            "surface\n",
            "temperature\n",
            "K\n",
            "°C\n",
            "°F\n",
            "pressure\n",
            "times\n",
            "Earth\n",
            "sea\n",
            "level\n",
            "conditions\n",
            "carbon\n",
            "dioxide\n",
            "state\n",
            "close\n",
            "Venus\n",
            "surface\n"
          ]
        }
      ],
      "source": [
        "for i in tags:\n",
        "  if('NN' in i[1]):\n",
        "    print(i[0])"
      ]
    },
    {
      "cell_type": "code",
      "execution_count": 22,
      "metadata": {},
      "outputs": [
        {
          "name": "stdout",
          "output_type": "stream",
          "text": [
            "second planet\n",
            "terrestrial planet\n",
            "neighbour Earth\n",
            "densest atmosphere\n",
            "terrestrial planets\n",
            "sulfuric acid\n",
            "mean temperature\n",
            "extreme conditions\n",
            "supercritical state\n"
          ]
        }
      ],
      "source": [
        "for i in range(len(tags)-1):\n",
        "  if ('JJ' in tags[i][1] and 'NN' in tags[i+1][1]):\n",
        "    print(tags[i][0], tags[i+1][0])"
      ]
    }
  ],
  "metadata": {
    "colab": {
      "provenance": []
    },
    "kernelspec": {
      "display_name": "Python 3",
      "name": "python3"
    },
    "language_info": {
      "codemirror_mode": {
        "name": "ipython",
        "version": 3
      },
      "file_extension": ".py",
      "mimetype": "text/x-python",
      "name": "python",
      "nbconvert_exporter": "python",
      "pygments_lexer": "ipython3",
      "version": "3.11.7"
    }
  },
  "nbformat": 4,
  "nbformat_minor": 0
}
