{
 "cells": [
  {
   "cell_type": "code",
   "execution_count": 1,
   "metadata": {},
   "outputs": [
    {
     "name": "stdout",
     "output_type": "stream",
     "text": [
      "Collecting SpeechRecognition\n",
      "  Downloading SpeechRecognition-3.10.4-py2.py3-none-any.whl.metadata (28 kB)\n",
      "Collecting PyAudio\n",
      "  Downloading PyAudio-0.2.14-cp311-cp311-win_amd64.whl.metadata (2.7 kB)\n",
      "Requirement already satisfied: requests>=2.26.0 in c:\\users\\administrator.dai-pc2\\anaconda3\\lib\\site-packages (from SpeechRecognition) (2.31.0)\n",
      "Requirement already satisfied: typing-extensions in c:\\users\\administrator.dai-pc2\\anaconda3\\lib\\site-packages (from SpeechRecognition) (4.11.0)\n",
      "Requirement already satisfied: charset-normalizer<4,>=2 in c:\\users\\administrator.dai-pc2\\anaconda3\\lib\\site-packages (from requests>=2.26.0->SpeechRecognition) (2.0.4)\n",
      "Requirement already satisfied: idna<4,>=2.5 in c:\\users\\administrator.dai-pc2\\anaconda3\\lib\\site-packages (from requests>=2.26.0->SpeechRecognition) (3.7)\n",
      "Requirement already satisfied: urllib3<3,>=1.21.1 in c:\\users\\administrator.dai-pc2\\anaconda3\\lib\\site-packages (from requests>=2.26.0->SpeechRecognition) (2.1.0)\n",
      "Requirement already satisfied: certifi>=2017.4.17 in c:\\users\\administrator.dai-pc2\\anaconda3\\lib\\site-packages (from requests>=2.26.0->SpeechRecognition) (2024.2.2)\n",
      "Downloading SpeechRecognition-3.10.4-py2.py3-none-any.whl (32.8 MB)\n",
      "   ---------------------------------------- 0.0/32.8 MB ? eta -:--:--\n",
      "   ---------------------------------------- 0.1/32.8 MB 2.2 MB/s eta 0:00:16\n",
      "   ---------------------------------------- 0.4/32.8 MB 5.1 MB/s eta 0:00:07\n",
      "   - -------------------------------------- 1.2/32.8 MB 8.6 MB/s eta 0:00:04\n",
      "   ---- ----------------------------------- 3.3/32.8 MB 17.5 MB/s eta 0:00:02\n",
      "   ------- -------------------------------- 6.1/32.8 MB 26.0 MB/s eta 0:00:02\n",
      "   ------------- -------------------------- 11.0/32.8 MB 59.5 MB/s eta 0:00:01\n",
      "   -------------------- ------------------- 16.8/32.8 MB 108.8 MB/s eta 0:00:01\n",
      "   ------------------------- -------------- 21.1/32.8 MB 93.0 MB/s eta 0:00:01\n",
      "   ---------------------------- ----------- 23.7/32.8 MB 81.8 MB/s eta 0:00:01\n",
      "   --------------------------------- ------ 27.1/32.8 MB 73.1 MB/s eta 0:00:01\n",
      "   -------------------------------------- - 31.8/32.8 MB 93.0 MB/s eta 0:00:01\n",
      "   ---------------------------------------  32.8/32.8 MB 72.6 MB/s eta 0:00:01\n",
      "   ---------------------------------------  32.8/32.8 MB 72.6 MB/s eta 0:00:01\n",
      "   ---------------------------------------  32.8/32.8 MB 72.6 MB/s eta 0:00:01\n",
      "   ---------------------------------------- 32.8/32.8 MB 38.4 MB/s eta 0:00:00\n",
      "Downloading PyAudio-0.2.14-cp311-cp311-win_amd64.whl (164 kB)\n",
      "   ---------------------------------------- 0.0/164.1 kB ? eta -:--:--\n",
      "   ---------------------------------------- 164.1/164.1 kB 9.6 MB/s eta 0:00:00\n",
      "Installing collected packages: PyAudio, SpeechRecognition\n",
      "Successfully installed PyAudio-0.2.14 SpeechRecognition-3.10.4\n"
     ]
    }
   ],
   "source": [
    "!pip install SpeechRecognition PyAudio"
   ]
  },
  {
   "cell_type": "markdown",
   "metadata": {},
   "source": [
    "### Import the Package"
   ]
  },
  {
   "cell_type": "code",
   "execution_count": 2,
   "metadata": {},
   "outputs": [],
   "source": [
    "import speech_recognition as sr"
   ]
  },
  {
   "cell_type": "markdown",
   "metadata": {},
   "source": [
    "### Create the object of Microphone"
   ]
  },
  {
   "cell_type": "code",
   "execution_count": 3,
   "metadata": {},
   "outputs": [],
   "source": [
    "r = sr.Recognizer()"
   ]
  },
  {
   "cell_type": "code",
   "execution_count": null,
   "metadata": {},
   "outputs": [],
   "source": [
    "with sr.Microphone() as source:\n",
    "    print('Speak')\n",
    "    audio = r.listen(source) # We can use timeout parameter for maximum waiting period\n",
    "    print(\"You said:\", r.recognize_google(audio))\n",
    "    \n",
    "# Use Headphone or any other input device other than system microphone"
   ]
  }
 ],
 "metadata": {
  "kernelspec": {
   "display_name": "base",
   "language": "python",
   "name": "python3"
  },
  "language_info": {
   "codemirror_mode": {
    "name": "ipython",
    "version": 3
   },
   "file_extension": ".py",
   "mimetype": "text/x-python",
   "name": "python",
   "nbconvert_exporter": "python",
   "pygments_lexer": "ipython3",
   "version": "3.11.7"
  }
 },
 "nbformat": 4,
 "nbformat_minor": 2
}
