{
 "cells": [
  {
   "cell_type": "markdown",
   "metadata": {},
   "source": [
    "### Import the Libraries"
   ]
  },
  {
   "cell_type": "code",
   "execution_count": 1,
   "metadata": {},
   "outputs": [
    {
     "name": "stdout",
     "output_type": "stream",
     "text": [
      "Requirement already satisfied: gtts in c:\\users\\administrator.dai-pc2\\anaconda3\\lib\\site-packages (2.5.1)Note: you may need to restart the kernel to use updated packages.\n",
      "\n",
      "Requirement already satisfied: playsound in c:\\users\\administrator.dai-pc2\\anaconda3\\lib\\site-packages (1.3.0)\n",
      "Requirement already satisfied: requests<3,>=2.27 in c:\\users\\administrator.dai-pc2\\anaconda3\\lib\\site-packages (from gtts) (2.31.0)\n",
      "Requirement already satisfied: click<8.2,>=7.1 in c:\\users\\administrator.dai-pc2\\anaconda3\\lib\\site-packages (from gtts) (8.1.7)\n",
      "Requirement already satisfied: colorama in c:\\users\\administrator.dai-pc2\\anaconda3\\lib\\site-packages (from click<8.2,>=7.1->gtts) (0.4.6)\n",
      "Requirement already satisfied: charset-normalizer<4,>=2 in c:\\users\\administrator.dai-pc2\\anaconda3\\lib\\site-packages (from requests<3,>=2.27->gtts) (2.0.4)\n",
      "Requirement already satisfied: idna<4,>=2.5 in c:\\users\\administrator.dai-pc2\\anaconda3\\lib\\site-packages (from requests<3,>=2.27->gtts) (3.7)\n",
      "Requirement already satisfied: urllib3<3,>=1.21.1 in c:\\users\\administrator.dai-pc2\\anaconda3\\lib\\site-packages (from requests<3,>=2.27->gtts) (2.1.0)\n",
      "Requirement already satisfied: certifi>=2017.4.17 in c:\\users\\administrator.dai-pc2\\anaconda3\\lib\\site-packages (from requests<3,>=2.27->gtts) (2024.2.2)\n"
     ]
    }
   ],
   "source": [
    "pip install gtts playsound"
   ]
  },
  {
   "cell_type": "code",
   "execution_count": 2,
   "metadata": {},
   "outputs": [],
   "source": [
    "from gtts import gTTS # class\n",
    "from playsound import playsound # method"
   ]
  },
  {
   "cell_type": "code",
   "execution_count": 3,
   "metadata": {},
   "outputs": [],
   "source": [
    "tts = gTTS(text=\"I'm fine friends, Thank You.\", lang='en')"
   ]
  },
  {
   "cell_type": "markdown",
   "metadata": {},
   "source": [
    "### Save and Play"
   ]
  },
  {
   "cell_type": "code",
   "execution_count": 4,
   "metadata": {},
   "outputs": [],
   "source": [
    "tts.save('speech sample.mp3')\n",
    "playsound('speech sample.mp3')"
   ]
  },
  {
   "cell_type": "markdown",
   "metadata": {},
   "source": [
    "### Try in Non-English Languages"
   ]
  },
  {
   "cell_type": "code",
   "execution_count": 5,
   "metadata": {},
   "outputs": [],
   "source": [
    "tts = gTTS(text=\"नमस्कार, मितू स्किललॉलॉजिस  मध्ये आपले स्वागत आहे\", lang='mr')"
   ]
  },
  {
   "cell_type": "code",
   "execution_count": 6,
   "metadata": {},
   "outputs": [],
   "source": [
    "tts.save('speech sample.mp3')\n",
    "playsound('speech sample.mp3')"
   ]
  },
  {
   "cell_type": "code",
   "execution_count": 7,
   "metadata": {},
   "outputs": [
    {
     "name": "stdout",
     "output_type": "stream",
     "text": [
      "Help on class gTTS in module gtts.tts:\n",
      "\n",
      "class gTTS(builtins.object)\n",
      " |  gTTS(text, tld='com', lang='en', slow=False, lang_check=True, pre_processor_funcs=[<function tone_marks at 0x00000280E42E7D80>, <function end_of_line at 0x00000280DE6045E0>, <function abbreviations at 0x00000280E42F8D60>, <function word_sub at 0x00000280E42F8C20>], tokenizer_func=<bound method Tokenizer.run of re.compile('(?<=\\\\?).|(?<=!).|(?<=？).|(?<=！).|(?<!\\\\.[a-z])\\\\. |(?<!\\\\.[a-z]), |(?<!\\\\d):|¡|\\\\[|、|¿|\\\\)|;|\\\\(|\\\\]|。|…|，|‥|\\\\\\n|：|—|،', re.IGNORECASE) from: [<function tone_marks at 0x00000280E42F8EA0>, <function period_comma at 0x00000280E42F8F40>, <function colon at 0x00000280E42F8FE0>, <function other_punctuation at 0x00000280E42F9080>]>, timeout=None)\n",
      " |  \n",
      " |  gTTS -- Google Text-to-Speech.\n",
      " |  \n",
      " |  An interface to Google Translate's Text-to-Speech API.\n",
      " |  \n",
      " |  Args:\n",
      " |      text (string): The text to be read.\n",
      " |      tld (string): Top-level domain for the Google Translate host,\n",
      " |          i.e `https://translate.google.<tld>`. Different Google domains\n",
      " |          can produce different localized 'accents' for a given\n",
      " |          language. This is also useful when ``google.com`` might be blocked\n",
      " |          within a network but a local or different Google host\n",
      " |          (e.g. ``google.com.hk``) is not. Default is ``com``.\n",
      " |      lang (string, optional): The language (IETF language tag) to\n",
      " |          read the text in. Default is ``en``.\n",
      " |      slow (bool, optional): Reads text more slowly. Defaults to ``False``.\n",
      " |      lang_check (bool, optional): Strictly enforce an existing ``lang``,\n",
      " |          to catch a language error early. If set to ``True``,\n",
      " |          a ``ValueError`` is raised if ``lang`` doesn't exist.\n",
      " |          Setting ``lang_check`` to ``False`` skips Web requests\n",
      " |          (to validate language) and therefore speeds up instantiation.\n",
      " |          Default is ``True``.\n",
      " |      pre_processor_funcs (list): A list of zero or more functions that are\n",
      " |          called to transform (pre-process) text before tokenizing. Those\n",
      " |          functions must take a string and return a string. Defaults to::\n",
      " |  \n",
      " |              [\n",
      " |                  pre_processors.tone_marks,\n",
      " |                  pre_processors.end_of_line,\n",
      " |                  pre_processors.abbreviations,\n",
      " |                  pre_processors.word_sub\n",
      " |              ]\n",
      " |  \n",
      " |      tokenizer_func (callable): A function that takes in a string and\n",
      " |          returns a list of string (tokens). Defaults to::\n",
      " |  \n",
      " |              Tokenizer([\n",
      " |                  tokenizer_cases.tone_marks,\n",
      " |                  tokenizer_cases.period_comma,\n",
      " |                  tokenizer_cases.colon,\n",
      " |                  tokenizer_cases.other_punctuation\n",
      " |              ]).run\n",
      " |  \n",
      " |      timeout (float or tuple, optional): Seconds to wait for the server to\n",
      " |          send data before giving up, as a float, or a ``(connect timeout,\n",
      " |          read timeout)`` tuple. ``None`` will wait forever (default).\n",
      " |  \n",
      " |  See Also:\n",
      " |      :doc:`Pre-processing and tokenizing <tokenizer>`\n",
      " |  \n",
      " |  Raises:\n",
      " |      AssertionError: When ``text`` is ``None`` or empty; when there's nothing\n",
      " |          left to speak after pre-precessing, tokenizing and cleaning.\n",
      " |      ValueError: When ``lang_check`` is ``True`` and ``lang`` is not supported.\n",
      " |      RuntimeError: When ``lang_check`` is ``True`` but there's an error loading\n",
      " |          the languages dictionary.\n",
      " |  \n",
      " |  Methods defined here:\n",
      " |  \n",
      " |  __init__(self, text, tld='com', lang='en', slow=False, lang_check=True, pre_processor_funcs=[<function tone_marks at 0x00000280E42E7D80>, <function end_of_line at 0x00000280DE6045E0>, <function abbreviations at 0x00000280E42F8D60>, <function word_sub at 0x00000280E42F8C20>], tokenizer_func=<bound method Tokenizer.run of re.compile('(?<=\\\\?).|(?<=!).|(?<=？).|(?<=！).|(?<!\\\\.[a-z])\\\\. |(?<!\\\\.[a-z]), |(?<!\\\\d):|¡|\\\\[|、|¿|\\\\)|;|\\\\(|\\\\]|。|…|，|‥|\\\\\\n|：|—|،', re.IGNORECASE) from: [<function tone_marks at 0x00000280E42F8EA0>, <function period_comma at 0x00000280E42F8F40>, <function colon at 0x00000280E42F8FE0>, <function other_punctuation at 0x00000280E42F9080>]>, timeout=None)\n",
      " |      Initialize self.  See help(type(self)) for accurate signature.\n",
      " |  \n",
      " |  get_bodies(self)\n",
      " |      Get TTS API request bodies(s) that would be sent to the TTS API.\n",
      " |      \n",
      " |      Returns:\n",
      " |          list: A list of TTS API request bodies to make.\n",
      " |  \n",
      " |  save(self, savefile)\n",
      " |      Do the TTS API request and write result to file.\n",
      " |      \n",
      " |      Args:\n",
      " |          savefile (string): The path and file name to save the ``mp3`` to.\n",
      " |      \n",
      " |      Raises:\n",
      " |          :class:`gTTSError`: When there's an error with the API request.\n",
      " |  \n",
      " |  stream(self)\n",
      " |      Do the TTS API request(s) and stream bytes\n",
      " |      \n",
      " |      Raises:\n",
      " |          :class:`gTTSError`: When there's an error with the API request.\n",
      " |  \n",
      " |  write_to_fp(self, fp)\n",
      " |      Do the TTS API request(s) and write bytes to a file-like object.\n",
      " |      \n",
      " |      Args:\n",
      " |          fp (file object): Any file-like object to write the ``mp3`` to.\n",
      " |      \n",
      " |      Raises:\n",
      " |          :class:`gTTSError`: When there's an error with the API request.\n",
      " |          TypeError: When ``fp`` is not a file-like object that takes bytes.\n",
      " |  \n",
      " |  ----------------------------------------------------------------------\n",
      " |  Data descriptors defined here:\n",
      " |  \n",
      " |  __dict__\n",
      " |      dictionary for instance variables\n",
      " |  \n",
      " |  __weakref__\n",
      " |      list of weak references to the object\n",
      " |  \n",
      " |  ----------------------------------------------------------------------\n",
      " |  Data and other attributes defined here:\n",
      " |  \n",
      " |  GOOGLE_TTS_HEADERS = {'Content-Type': 'application/x-www-form-urlencod...\n",
      " |  \n",
      " |  GOOGLE_TTS_MAX_CHARS = 100\n",
      " |  \n",
      " |  GOOGLE_TTS_RPC = 'jQ1olc'\n",
      "\n"
     ]
    }
   ],
   "source": [
    "help(gTTS)"
   ]
  },
  {
   "cell_type": "code",
   "execution_count": null,
   "metadata": {},
   "outputs": [],
   "source": []
  }
 ],
 "metadata": {
  "kernelspec": {
   "display_name": "base",
   "language": "python",
   "name": "python3"
  },
  "language_info": {
   "codemirror_mode": {
    "name": "ipython",
    "version": 3
   },
   "file_extension": ".py",
   "mimetype": "text/x-python",
   "name": "python",
   "nbconvert_exporter": "python",
   "pygments_lexer": "ipython3",
   "version": "3.11.7"
  }
 },
 "nbformat": 4,
 "nbformat_minor": 2
}
