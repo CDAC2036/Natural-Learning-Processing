{
 "cells": [
  {
   "cell_type": "markdown",
   "metadata": {},
   "source": [
    "### Install the Library"
   ]
  },
  {
   "cell_type": "code",
   "execution_count": 1,
   "metadata": {},
   "outputs": [
    {
     "name": "stdout",
     "output_type": "stream",
     "text": [
      "Requirement already satisfied: indic-transliteration in c:\\users\\administrator.dai-pc2\\anaconda3\\lib\\site-packages (2.3.59)\n",
      "Requirement already satisfied: backports.functools-lru-cache in c:\\users\\administrator.dai-pc2\\anaconda3\\lib\\site-packages (from indic-transliteration) (1.6.4)\n",
      "Requirement already satisfied: regex in c:\\users\\administrator.dai-pc2\\anaconda3\\lib\\site-packages (from indic-transliteration) (2023.10.3)\n",
      "Requirement already satisfied: typer in c:\\users\\administrator.dai-pc2\\anaconda3\\lib\\site-packages (from indic-transliteration) (0.9.4)\n",
      "Requirement already satisfied: toml in c:\\users\\administrator.dai-pc2\\anaconda3\\lib\\site-packages (from indic-transliteration) (0.10.2)\n",
      "Requirement already satisfied: roman in c:\\users\\administrator.dai-pc2\\anaconda3\\lib\\site-packages (from indic-transliteration) (4.2)\n",
      "Requirement already satisfied: click<9.0.0,>=7.1.1 in c:\\users\\administrator.dai-pc2\\anaconda3\\lib\\site-packages (from typer->indic-transliteration) (8.1.7)\n",
      "Requirement already satisfied: typing-extensions>=3.7.4.3 in c:\\users\\administrator.dai-pc2\\anaconda3\\lib\\site-packages (from typer->indic-transliteration) (4.11.0)\n",
      "Requirement already satisfied: colorama in c:\\users\\administrator.dai-pc2\\anaconda3\\lib\\site-packages (from click<9.0.0,>=7.1.1->typer->indic-transliteration) (0.4.6)\n"
     ]
    }
   ],
   "source": [
    "!pip install indic-transliteration"
   ]
  },
  {
   "cell_type": "markdown",
   "metadata": {},
   "source": [
    "### Import The Library"
   ]
  },
  {
   "cell_type": "code",
   "execution_count": 2,
   "metadata": {},
   "outputs": [],
   "source": [
    "from indic_transliteration import sanscript\n",
    "from indic_transliteration.sanscript import transliterate"
   ]
  },
  {
   "cell_type": "code",
   "execution_count": 3,
   "metadata": {},
   "outputs": [],
   "source": [
    "data = 'utsava'"
   ]
  },
  {
   "cell_type": "code",
   "execution_count": 4,
   "metadata": {},
   "outputs": [
    {
     "name": "stdout",
     "output_type": "stream",
     "text": [
      "उत्सव\n"
     ]
    }
   ],
   "source": [
    "print(transliterate(data, sanscript.ITRANS, sanscript.DEVANAGARI))"
   ]
  },
  {
   "cell_type": "code",
   "execution_count": 5,
   "metadata": {},
   "outputs": [
    {
     "name": "stdout",
     "output_type": "stream",
     "text": [
      "भारतीय\n"
     ]
    }
   ],
   "source": [
    "print(transliterate('bhaaratIya', sanscript.ITRANS, sanscript.DEVANAGARI))"
   ]
  },
  {
   "cell_type": "code",
   "execution_count": 6,
   "metadata": {},
   "outputs": [
    {
     "name": "stdout",
     "output_type": "stream",
     "text": [
      "ভারতীয\n"
     ]
    }
   ],
   "source": [
    "print(transliterate('bhaaratIya', sanscript.ITRANS, sanscript.BENGALI))"
   ]
  },
  {
   "cell_type": "code",
   "execution_count": 7,
   "metadata": {},
   "outputs": [
    {
     "name": "stdout",
     "output_type": "stream",
     "text": [
      "ഭാരതീയ\n"
     ]
    }
   ],
   "source": [
    "print(transliterate('bhaaratIya', sanscript.ITRANS, sanscript.MALAYALAM))"
   ]
  },
  {
   "cell_type": "code",
   "execution_count": 8,
   "metadata": {},
   "outputs": [
    {
     "name": "stdout",
     "output_type": "stream",
     "text": [
      "ભારતીય\n"
     ]
    }
   ],
   "source": [
    "print(transliterate('bhaaratIya', sanscript.ITRANS, sanscript.GUJARATI))"
   ]
  },
  {
   "cell_type": "code",
   "execution_count": 9,
   "metadata": {},
   "outputs": [
    {
     "name": "stdout",
     "output_type": "stream",
     "text": [
      "पुणे\n"
     ]
    }
   ],
   "source": [
    "data = input('Enter the string: ')\n",
    "print(transliterate(data, sanscript.ITRANS, sanscript.DEVANAGARI))"
   ]
  }
 ],
 "metadata": {
  "kernelspec": {
   "display_name": "base",
   "language": "python",
   "name": "python3"
  },
  "language_info": {
   "codemirror_mode": {
    "name": "ipython",
    "version": 3
   },
   "file_extension": ".py",
   "mimetype": "text/x-python",
   "name": "python",
   "nbconvert_exporter": "python",
   "pygments_lexer": "ipython3",
   "version": "3.11.7"
  }
 },
 "nbformat": 4,
 "nbformat_minor": 2
}
