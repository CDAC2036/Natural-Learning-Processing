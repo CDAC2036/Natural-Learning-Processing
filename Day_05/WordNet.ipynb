{
 "cells": [
  {
   "cell_type": "code",
   "execution_count": 1,
   "metadata": {},
   "outputs": [],
   "source": [
    "from nltk.corpus import wordnet"
   ]
  },
  {
   "cell_type": "code",
   "execution_count": 2,
   "metadata": {},
   "outputs": [],
   "source": [
    "# synsets(): a set of synonyms that share a common meaning. Each synset contains one or more lemmas, which represent a specific sense of a specific word.\n",
    "x = wordnet.synsets('create')"
   ]
  },
  {
   "cell_type": "code",
   "execution_count": 3,
   "metadata": {},
   "outputs": [
    {
     "data": {
      "text/plain": [
       "[Synset('make.v.03'),\n",
       " Synset('create.v.02'),\n",
       " Synset('create.v.03'),\n",
       " Synset('create.v.04'),\n",
       " Synset('create.v.05'),\n",
       " Synset('produce.v.02')]"
      ]
     },
     "execution_count": 3,
     "metadata": {},
     "output_type": "execute_result"
    }
   ],
   "source": [
    "x"
   ]
  },
  {
   "cell_type": "code",
   "execution_count": 4,
   "metadata": {},
   "outputs": [],
   "source": [
    "synonyms = set()\n",
    "\n",
    "for word in wordnet.synsets('create'):\n",
    "    synonyms.add(word.lemmas()[0].name())"
   ]
  },
  {
   "cell_type": "code",
   "execution_count": 5,
   "metadata": {},
   "outputs": [
    {
     "data": {
      "text/plain": [
       "{'create', 'make', 'produce'}"
      ]
     },
     "execution_count": 5,
     "metadata": {},
     "output_type": "execute_result"
    }
   ],
   "source": [
    "synonyms"
   ]
  },
  {
   "cell_type": "code",
   "execution_count": 6,
   "metadata": {},
   "outputs": [
    {
     "name": "stdout",
     "output_type": "stream",
     "text": [
      "Lemma('make.v.03.make')\n",
      "Lemma('create.v.02.create')\n",
      "Lemma('create.v.03.create')\n",
      "Lemma('create.v.04.create')\n",
      "Lemma('create.v.05.create')\n",
      "Lemma('produce.v.02.produce')\n"
     ]
    }
   ],
   "source": [
    "synonyms = set()\n",
    "\n",
    "for word in wordnet.synsets('create'):\n",
    "    print(word.lemmas()[0])"
   ]
  },
  {
   "cell_type": "code",
   "execution_count": 7,
   "metadata": {},
   "outputs": [
    {
     "name": "stdout",
     "output_type": "stream",
     "text": [
      "Word and type: post.n.01\n",
      "Synonym: post\n",
      "The meaning of word: the position where someone (as a guard or sentry) stands or is assigned to stand\n",
      "Example: ['a soldier manned the entrance post', 'a sentry station']\n",
      "===========================================================\n",
      "Word and type: military_post.n.01\n",
      "Synonym: military_post\n",
      "The meaning of word: military installation at which a body of troops is stationed\n",
      "Example: ['this military post provides an important source of income for the town nearby', \"there is an officer's club on the post\"]\n",
      "===========================================================\n",
      "Word and type: position.n.06\n",
      "Synonym: position\n",
      "The meaning of word: a job in an organization\n",
      "Example: ['he occupied a post in the treasury']\n",
      "===========================================================\n",
      "Word and type: post.n.04\n",
      "Synonym: post\n",
      "The meaning of word: an upright consisting of a piece of timber or metal fixed firmly in an upright position\n",
      "Example: ['he set a row of posts in the ground and strung barbwire between them']\n",
      "===========================================================\n",
      "Word and type: post.n.05\n",
      "Synonym: Post\n",
      "The meaning of word: United States aviator who in 1933 made the first solo flight around the world (1899-1935)\n",
      "Example: []\n",
      "===========================================================\n",
      "Word and type: post.n.06\n",
      "Synonym: Post\n",
      "The meaning of word: United States female author who wrote a book and a syndicated newspaper column on etiquette (1872-1960)\n",
      "Example: []\n",
      "===========================================================\n",
      "Word and type: post.n.07\n",
      "Synonym: Post\n",
      "The meaning of word: United States manufacturer of breakfast cereals and Postum (1854-1914)\n",
      "Example: []\n",
      "===========================================================\n",
      "Word and type: mail.n.04\n",
      "Synonym: mail\n",
      "The meaning of word: any particular collection of letters or packages that is delivered\n",
      "Example: ['your mail is on the table', 'is there any post for me?', 'she was opening her post']\n",
      "===========================================================\n",
      "Word and type: post.n.09\n",
      "Synonym: post\n",
      "The meaning of word: a pole or stake set up to mark something (as the start or end of a race track)\n",
      "Example: ['a pair of posts marked the goal', 'the corner of the lot was indicated by a stake']\n",
      "===========================================================\n",
      "Word and type: mail.n.02\n",
      "Synonym: mail\n",
      "The meaning of word: the system whereby messages are transmitted via the post office\n",
      "Example: ['the mail handles billions of items every day', 'he works for the United States mail service', \"in England they call mail `the post'\"]\n",
      "===========================================================\n",
      "Word and type: post.n.11\n",
      "Synonym: post\n",
      "The meaning of word: the delivery and collection of letters and packages\n",
      "Example: ['it came by the first post', \"if you hurry you'll catch the post\"]\n",
      "===========================================================\n",
      "Word and type: post.v.01\n",
      "Synonym: post\n",
      "The meaning of word: affix in a public place or for public notice\n",
      "Example: ['post a warning']\n",
      "===========================================================\n",
      "Word and type: post.v.02\n",
      "Synonym: post\n",
      "The meaning of word: publicize with, or as if with, a poster\n",
      "Example: [\"I'll post the news on the bulletin board\"]\n",
      "===========================================================\n",
      "Word and type: post.v.03\n",
      "Synonym: post\n",
      "The meaning of word: assign to a post; put into a post\n",
      "Example: ['The newspaper posted him in Timbuktu']\n",
      "===========================================================\n",
      "Word and type: station.v.01\n",
      "Synonym: station\n",
      "The meaning of word: assign to a station\n",
      "Example: []\n",
      "===========================================================\n",
      "Word and type: post.v.05\n",
      "Synonym: post\n",
      "The meaning of word: display, as of records in sports games\n",
      "Example: []\n",
      "===========================================================\n",
      "Word and type: post.v.06\n",
      "Synonym: post\n",
      "The meaning of word: enter on a public list\n",
      "Example: []\n",
      "===========================================================\n",
      "Word and type: post.v.07\n",
      "Synonym: post\n",
      "The meaning of word: transfer (entries) from one account book to another\n",
      "Example: []\n",
      "===========================================================\n",
      "Word and type: post.v.08\n",
      "Synonym: post\n",
      "The meaning of word: ride Western style and bob up and down in the saddle in rhythm with a horse's trotting gait\n",
      "Example: []\n",
      "===========================================================\n",
      "Word and type: stake.v.03\n",
      "Synonym: stake\n",
      "The meaning of word: mark with a stake\n",
      "Example: ['stake out the path']\n",
      "===========================================================\n",
      "Word and type: post.v.10\n",
      "Synonym: post\n",
      "The meaning of word: place so as to be noticed\n",
      "Example: ['post a sign', 'post a warning at the dump']\n",
      "===========================================================\n",
      "Word and type: mail.v.02\n",
      "Synonym: mail\n",
      "The meaning of word: cause to be directed or transmitted to another place\n",
      "Example: ['send me your latest results', \"I'll mail you the paper when it's written\"]\n",
      "===========================================================\n",
      "Word and type: post.v.12\n",
      "Synonym: post\n",
      "The meaning of word: mark or expose as infamous\n",
      "Example: ['She was branded a loose woman']\n",
      "===========================================================\n"
     ]
    }
   ],
   "source": [
    "synset = wordnet.synsets(\"post\")\n",
    "\n",
    "for i in range(len(synset)):\n",
    "\n",
    "    print('Word and type: '+ synset[i].name())\n",
    "    print('Synonym: '+ synset[i].lemmas()[0].name())\n",
    "    print('The meaning of word: '+ synset[i].definition())\n",
    "    print('Example: '+ str(synset[i].examples()))\n",
    "    print('===========================================================')"
   ]
  },
  {
   "cell_type": "code",
   "execution_count": 8,
   "metadata": {},
   "outputs": [
    {
     "name": "stdout",
     "output_type": "stream",
     "text": [
      "sound.v.01\n",
      "sound.v.02\n",
      "sound.v.03\n",
      "sound.v.04\n",
      "voice.v.02\n",
      "sound.v.06\n",
      "fathom.v.02\n"
     ]
    }
   ],
   "source": [
    "for word in wordnet.synsets('sound', pos='v'):\n",
    "    print(word.name())"
   ]
  },
  {
   "cell_type": "code",
   "execution_count": 9,
   "metadata": {},
   "outputs": [
    {
     "name": "stdout",
     "output_type": "stream",
     "text": [
      "sound.v.01 :  appear in a certain way\n",
      "sound.v.02 :  make a certain noise or sound\n",
      "sound.v.03 :  give off a certain sound or sounds\n",
      "sound.v.04 :  announce by means of a sound\n",
      "voice.v.02 :  utter with vibrating vocal chords\n",
      "sound.v.06 :  cause to sound\n",
      "fathom.v.02 :  measure the depth of (a body of water) with a sounding line\n"
     ]
    }
   ],
   "source": [
    "for word in wordnet.synsets('sound', pos='v'):\n",
    "    print(word.name(),': ',word.definition())"
   ]
  },
  {
   "cell_type": "code",
   "execution_count": 10,
   "metadata": {},
   "outputs": [
    {
     "name": "stdout",
     "output_type": "stream",
     "text": [
      "interruption.n.02 :  some abrupt occurrence that interrupts an ongoing activity\n",
      "break.n.02 :  an unexpected piece of good luck\n",
      "fault.n.04 :  (geology) a crack in the earth's crust resulting from the displacement of one side with respect to the other\n",
      "rupture.n.02 :  a personal or social separation (as between opposing factions)\n",
      "respite.n.02 :  a pause from doing something (as work)\n",
      "breakage.n.03 :  the act of breaking something\n",
      "pause.n.01 :  a time interval during which there is a temporary cessation of something\n",
      "fracture.n.01 :  breaking of hard tissue such as bone\n",
      "break.n.09 :  the occurrence of breaking\n",
      "break.n.10 :  an abrupt change in the tone or register of the voice (as at puberty or due to emotion)\n",
      "break.n.11 :  the opening shot that scatters the balls in billiards or pool\n",
      "break.n.12 :  (tennis) a score consisting of winning a game when your opponent was serving\n",
      "break.n.13 :  an act of delaying or interrupting the continuity\n",
      "break.n.14 :  a sudden dash\n",
      "open_frame.n.01 :  any frame in which a bowler fails to make a strike or spare\n",
      "break.n.16 :  an escape from jail\n",
      "interrupt.v.04 :  terminate\n",
      "break.v.02 :  become separated into pieces or fragments\n",
      "break.v.03 :  render inoperable or ineffective\n",
      "break.v.04 :  ruin completely\n",
      "break.v.05 :  destroy the integrity of; usually by force; cause to separate into pieces or fragments\n",
      "transgress.v.01 :  act in disregard of laws, rules, contracts, or promises\n",
      "break.v.07 :  move away or escape suddenly\n",
      "break.v.08 :  scatter or part\n",
      "break.v.09 :  force out or release suddenly and often violently something pent up\n",
      "break.v.10 :  prevent completion\n",
      "break_in.v.01 :  enter someone's (virtual or real) property in an unauthorized manner, usually with the intent to steal or commit a violent act\n",
      "break_in.v.06 :  make submissive, obedient, or useful\n",
      "violate.v.01 :  fail to agree with; be in violation of; as of rules or patterns\n",
      "better.v.01 :  surpass in excellence\n",
      "unwrap.v.02 :  make known to the public information that was previously known only to a few people or that was meant to be kept a secret\n",
      "break.v.16 :  come into being\n",
      "fail.v.04 :  stop operating or functioning\n",
      "break.v.18 :  interrupt a continued activity\n",
      "break.v.19 :  make a rupture in the ranks of the enemy or one's own by quitting or fleeing\n",
      "break.v.20 :  curl over and fall apart in surf or foam, of waves\n",
      "dampen.v.07 :  lessen in force or effect\n",
      "break.v.22 :  be broken in\n",
      "break.v.23 :  come to an end\n",
      "break.v.24 :  vary or interrupt a uniformity or continuity\n",
      "break.v.25 :  cause to give up a habit\n",
      "break.v.26 :  give up\n",
      "break.v.27 :  come forth or begin from a state of latency\n",
      "break.v.28 :  happen or take place\n",
      "break.v.29 :  cause the failure or ruin of\n",
      "break.v.30 :  invalidate by judicial action\n",
      "separate.v.08 :  discontinue an association or relation; go different ways\n",
      "demote.v.01 :  assign to a lower position; reduce in rank\n",
      "bankrupt.v.01 :  reduce to bankruptcy\n",
      "break.v.34 :  change directions suddenly\n",
      "break.v.35 :  emerge from the surface of a body of water\n",
      "collapse.v.01 :  break down, literally or metaphorically\n",
      "break_dance.v.01 :  do a break dance\n",
      "break.v.38 :  exchange for smaller units of money\n",
      "break.v.39 :  destroy the completeness of a set of related items\n",
      "break.v.40 :  make the opening shot that scatters the balls\n",
      "break.v.41 :  separate from a clinch, in boxing\n",
      "break.v.42 :  go to pieces\n",
      "break.v.43 :  break a piece from a whole\n",
      "break.v.44 :  become punctured or penetrated\n",
      "break.v.45 :  pierce or penetrate\n",
      "break.v.46 :  be released or become known; of news\n",
      "pause.v.02 :  cease an action temporarily\n",
      "break.v.48 :  interrupt the flow of current in\n",
      "break.v.49 :  undergo breaking\n",
      "break.v.50 :  find a flaw in\n",
      "break.v.51 :  find the solution or key to\n",
      "break.v.52 :  change suddenly from one tone quality or register to another\n",
      "break.v.53 :  happen\n",
      "crack.v.01 :  become fractured; break or crack on the surface only\n",
      "break.v.55 :  crack; of the male voice in puberty\n",
      "break.v.56 :  fall sharply\n",
      "fracture.v.06 :  fracture a bone of\n",
      "break.v.58 :  diminish or discontinue abruptly\n",
      "break.v.59 :  weaken or destroy in spirit or body\n"
     ]
    }
   ],
   "source": [
    "word = input('Enter the name:')\n",
    "\n",
    "for word in wordnet.synsets(word):\n",
    "    print(word.name(),': ',word.definition())"
   ]
  },
  {
   "cell_type": "code",
   "execution_count": 11,
   "metadata": {},
   "outputs": [
    {
     "name": "stdout",
     "output_type": "stream",
     "text": [
      "interruption.n.02 :  some abrupt occurrence that interrupts an ongoing activity\n",
      "break.n.02 :  an unexpected piece of good luck\n",
      "fault.n.04 :  (geology) a crack in the earth's crust resulting from the displacement of one side with respect to the other\n",
      "rupture.n.02 :  a personal or social separation (as between opposing factions)\n",
      "respite.n.02 :  a pause from doing something (as work)\n",
      "breakage.n.03 :  the act of breaking something\n",
      "pause.n.01 :  a time interval during which there is a temporary cessation of something\n",
      "fracture.n.01 :  breaking of hard tissue such as bone\n",
      "break.n.09 :  the occurrence of breaking\n",
      "break.n.10 :  an abrupt change in the tone or register of the voice (as at puberty or due to emotion)\n",
      "break.n.11 :  the opening shot that scatters the balls in billiards or pool\n",
      "break.n.12 :  (tennis) a score consisting of winning a game when your opponent was serving\n",
      "break.n.13 :  an act of delaying or interrupting the continuity\n",
      "break.n.14 :  a sudden dash\n",
      "open_frame.n.01 :  any frame in which a bowler fails to make a strike or spare\n",
      "break.n.16 :  an escape from jail\n"
     ]
    }
   ],
   "source": [
    "word = input('Enter the name:') # Note: The word are always taken in lower case inspite entered in upper case\n",
    "\n",
    "for word in wordnet.synsets(word, pos='n'):\n",
    "    print(word.name(),': ',word.definition())"
   ]
  },
  {
   "cell_type": "code",
   "execution_count": 12,
   "metadata": {},
   "outputs": [],
   "source": [
    "verbs = set()\n",
    "nouns = set()\n",
    "adj = set()\n",
    "\n",
    "for word in wordnet.synsets('sound', pos='n'):\n",
    "    nouns.add(word.lemmas()[0].name())\n",
    "    \n",
    "for word in wordnet.synsets('sound', pos='v'):\n",
    "    verbs.add(word.lemmas()[0].name())\n",
    "    \n",
    "for word in wordnet.synsets('sound', pos='a'):\n",
    "    adj.add(word.lemmas()[0].name())"
   ]
  },
  {
   "cell_type": "code",
   "execution_count": 13,
   "metadata": {},
   "outputs": [
    {
     "data": {
      "text/plain": [
       "{'fathom', 'sound', 'voice'}"
      ]
     },
     "execution_count": 13,
     "metadata": {},
     "output_type": "execute_result"
    }
   ],
   "source": [
    "verbs"
   ]
  },
  {
   "cell_type": "code",
   "execution_count": 14,
   "metadata": {},
   "outputs": [
    {
     "data": {
      "text/plain": [
       "{'audio', 'phone', 'sound', 'strait'}"
      ]
     },
     "execution_count": 14,
     "metadata": {},
     "output_type": "execute_result"
    }
   ],
   "source": [
    "nouns"
   ]
  },
  {
   "cell_type": "code",
   "execution_count": 15,
   "metadata": {},
   "outputs": [
    {
     "data": {
      "text/plain": [
       "{'good', 'healthy', 'heavy', 'legal', 'reasoned', 'sound'}"
      ]
     },
     "execution_count": 15,
     "metadata": {},
     "output_type": "execute_result"
    }
   ],
   "source": [
    "adj"
   ]
  },
  {
   "cell_type": "markdown",
   "metadata": {},
   "source": [
    "### Find antonym of the word"
   ]
  },
  {
   "cell_type": "code",
   "execution_count": 16,
   "metadata": {},
   "outputs": [
    {
     "name": "stdout",
     "output_type": "stream",
     "text": [
      "Antonyms:  {'make', 'keep', 'repair', 'promote', 'conform_to'}\n"
     ]
    }
   ],
   "source": [
    "ant = set()\n",
    "\n",
    "for synset in wordnet.synsets('break'):\n",
    "    \n",
    "    for lemma in synset.lemmas():\n",
    "        \n",
    "        if lemma.antonyms():\n",
    "            ant.add(lemma.antonyms()[0].name())\n",
    "            \n",
    "print('Antonyms: ', ant)"
   ]
  },
  {
   "cell_type": "markdown",
   "metadata": {},
   "source": [
    "### Extract the hypernyms"
   ]
  },
  {
   "cell_type": "code",
   "execution_count": 17,
   "metadata": {},
   "outputs": [
    {
     "name": "stdout",
     "output_type": "stream",
     "text": [
      "soil is a hyponym of dirtiness.n.01\n",
      "soil is a hyponym of earth.n.02\n",
      "soil is a hyponym of object.n.01\n",
      "soil is a hyponym of geographical_area.n.01\n",
      "soil is a hyponym of change.v.01\n"
     ]
    }
   ],
   "source": [
    "word = input('Enter the word: ')\n",
    "synsets = wordnet.synsets(word)\n",
    "\n",
    "for synset in synsets:\n",
    "    \n",
    "    hypernyms = synset.hypernyms()\n",
    "    \n",
    "    if hypernyms:\n",
    "        for hypernym in hypernyms:\n",
    "            print(f'{word} is a hyponym of {hypernym.name()}')"
   ]
  },
  {
   "cell_type": "markdown",
   "metadata": {},
   "source": [
    "### Extract the meronyms"
   ]
  },
  {
   "cell_type": "code",
   "execution_count": 18,
   "metadata": {},
   "outputs": [
    {
     "name": "stdout",
     "output_type": "stream",
     "text": [
      "nation has a meronym: estate_of_the_realm.n.01\n"
     ]
    }
   ],
   "source": [
    "word = input('Enter the word: ')\n",
    "synsets = wordnet.synsets(word)\n",
    "\n",
    "for synset in synsets:\n",
    "    \n",
    "    meronyms = synset.part_meronyms()\n",
    "    \n",
    "    if meronyms:\n",
    "        for meronym in meronyms:\n",
    "            print(f'{word} has a meronym: {meronym.name()}')"
   ]
  },
  {
   "cell_type": "code",
   "execution_count": null,
   "metadata": {},
   "outputs": [],
   "source": []
  }
 ],
 "metadata": {
  "kernelspec": {
   "display_name": "base",
   "language": "python",
   "name": "python3"
  },
  "language_info": {
   "codemirror_mode": {
    "name": "ipython",
    "version": 3
   },
   "file_extension": ".py",
   "mimetype": "text/x-python",
   "name": "python",
   "nbconvert_exporter": "python",
   "pygments_lexer": "ipython3",
   "version": "3.11.7"
  }
 },
 "nbformat": 4,
 "nbformat_minor": 2
}
