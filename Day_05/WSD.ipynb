{
 "cells": [
  {
   "cell_type": "markdown",
   "metadata": {},
   "source": [
    "### Word Sense Disambiguation"
   ]
  },
  {
   "cell_type": "code",
   "execution_count": 1,
   "metadata": {},
   "outputs": [],
   "source": [
    "from nltk.wsd import lesk\n",
    "from nltk.tokenize import word_tokenize"
   ]
  },
  {
   "cell_type": "code",
   "execution_count": 2,
   "metadata": {},
   "outputs": [
    {
     "name": "stdout",
     "output_type": "stream",
     "text": [
      "Help on function lesk in module nltk.wsd:\n",
      "\n",
      "lesk(context_sentence, ambiguous_word, pos=None, synsets=None)\n",
      "    Return a synset for an ambiguous word in a context.\n",
      "    \n",
      "    :param iter context_sentence: The context sentence where the ambiguous word\n",
      "         occurs, passed as an iterable of words.\n",
      "    :param str ambiguous_word: The ambiguous word that requires WSD.\n",
      "    :param str pos: A specified Part-of-Speech (POS).\n",
      "    :param iter synsets: Possible synsets of the ambiguous word.\n",
      "    :return: ``lesk_sense`` The Synset() object with the highest signature overlaps.\n",
      "    \n",
      "    This function is an implementation of the original Lesk algorithm (1986) [1].\n",
      "    \n",
      "    Usage example::\n",
      "    \n",
      "        >>> lesk(['I', 'went', 'to', 'the', 'bank', 'to', 'deposit', 'money', '.'], 'bank', 'n')\n",
      "        Synset('savings_bank.n.02')\n",
      "    \n",
      "    [1] Lesk, Michael. \"Automatic sense disambiguation using machine\n",
      "    readable dictionaries: how to tell a pine cone from an ice cream\n",
      "    cone.\" Proceedings of the 5th Annual International Conference on\n",
      "    Systems Documentation. ACM, 1986.\n",
      "    https://dl.acm.org/citation.cfm?id=318728\n",
      "\n"
     ]
    }
   ],
   "source": [
    "help(lesk)"
   ]
  },
  {
   "cell_type": "code",
   "execution_count": 3,
   "metadata": {},
   "outputs": [
    {
     "data": {
      "text/plain": [
       "'deliberate radiation or reflection of electromagnetic energy for the purpose of disrupting enemy use of electronic devices or systems'"
      ]
     },
     "execution_count": 3,
     "metadata": {},
     "output_type": "execute_result"
    }
   ],
   "source": [
    "a1 = lesk(word_tokenize('This device is used to jam the signal.'),'jam')\n",
    "a1.definition()"
   ]
  },
  {
   "cell_type": "code",
   "execution_count": 4,
   "metadata": {},
   "outputs": [
    {
     "data": {
      "text/plain": [
       "'press tightly together or cram'"
      ]
     },
     "execution_count": 4,
     "metadata": {},
     "output_type": "execute_result"
    }
   ],
   "source": [
    "a2 = lesk(word_tokenize('I like strawberry Jam on my bread'), 'jam')\n",
    "a2.definition()"
   ]
  },
  {
   "cell_type": "code",
   "execution_count": 5,
   "metadata": {},
   "outputs": [
    {
     "data": {
      "text/plain": [
       "'informal terms for a difficult situation'"
      ]
     },
     "execution_count": 5,
     "metadata": {},
     "output_type": "execute_result"
    }
   ],
   "source": [
    "a3 = lesk(word_tokenize('''It is a heavy traffic jam her.\n",
    "                        We are struck at same place'''), 'jam')\n",
    "a3.definition()"
   ]
  },
  {
   "cell_type": "code",
   "execution_count": 6,
   "metadata": {},
   "outputs": [
    {
     "data": {
      "text/plain": [
       "'jewelry consisting of a circlet of precious metal (often set with jewels) worn on the finger'"
      ]
     },
     "execution_count": 6,
     "metadata": {},
     "output_type": "execute_result"
    }
   ],
   "source": [
    "a4 = lesk(word_tokenize('I was attacked by a band of soldiers'),'band')\n",
    "a4.definition()"
   ]
  },
  {
   "cell_type": "code",
   "execution_count": 7,
   "metadata": {},
   "outputs": [
    {
     "data": {
      "text/plain": [
       "'attach a ring to the foot of, in order to identify'"
      ]
     },
     "execution_count": 7,
     "metadata": {},
     "output_type": "execute_result"
    }
   ],
   "source": [
    "a5 = lesk(word_tokenize('I was guitarist in a band'),'band')\n",
    "a5.definition()"
   ]
  }
 ],
 "metadata": {
  "kernelspec": {
   "display_name": "base",
   "language": "python",
   "name": "python3"
  },
  "language_info": {
   "codemirror_mode": {
    "name": "ipython",
    "version": 3
   },
   "file_extension": ".py",
   "mimetype": "text/x-python",
   "name": "python",
   "nbconvert_exporter": "python",
   "pygments_lexer": "ipython3",
   "version": "3.11.7"
  }
 },
 "nbformat": 4,
 "nbformat_minor": 2
}
